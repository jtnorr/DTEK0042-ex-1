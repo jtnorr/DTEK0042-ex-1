{
 "cells": [
  {
   "cell_type": "markdown",
   "metadata": {},
   "source": [
    "# DTEK0042 Exercise 2\n",
    "    Group Members:\n",
    "    1. first name last name\n",
    "    2. first name last name\n",
    "    3. first name last name"
   ]
  },
  {
   "cell_type": "markdown",
   "metadata": {},
   "source": [
    "*** Note for Google Colab Users ***\n",
    "     Because Google Colab doesn't have a button to convert your notebook to .html format here is a quick work around:\n",
    "   1. open a new google colab notebook\n",
    "   2. in the files section in google colab, upload the .ipynb file you want to be converted to .html\n",
    "   3. in your new open notebook run this command in an empty cell: !jupyter nbconvert --to html YourFileName.ipynb\n",
    "   4. after the command is finished running refresh the page\n",
    "   5. In your files section you should see your original .ipynb file that you uploaded and then a .html file of that same notebook.\n",
    "   6. download the .html file and you're good to go!"
   ]
  },
  {
   "cell_type": "markdown",
   "metadata": {},
   "source": [
    "In this exercise, you are required to analyze an ECG signal step-by-step as outlined below. The deliverables for this exercise are a jupyter notebook in both .ipynb and .html format. Please provide caption for every figure and include description for every figure. "
   ]
  },
  {
   "cell_type": "markdown",
   "metadata": {},
   "source": [
    "## library Imports"
   ]
  },
  {
   "cell_type": "code",
   "execution_count": 1,
   "metadata": {},
   "outputs": [],
   "source": [
    "import scipy as sp\n",
    "import numpy as np\n",
    "import matplotlib.pyplot as plt"
   ]
  },
  {
   "cell_type": "markdown",
   "metadata": {},
   "source": [
    "# Data Import and plotting\n",
    "* Import the ECG signal named “ECG_800Hz.txt” into your python environment and store it in a variable named “ECG_sig”. \n",
    "* Plot the signal\n",
    "* Note: the sampling frequency of this signal is 800Hz. \n",
    "* You need this value if you want to plot ECG versus time.\n",
    "\n",
    "\n",
    "     HINT: ECG_sig = np.loadtxt(the directory of the ECG signal) \n",
    "     https://numpy.org/doc/stable/reference/generated/numpy.loadtxt.html"
   ]
  },
  {
   "cell_type": "code",
   "execution_count": null,
   "metadata": {},
   "outputs": [],
   "source": [
    "#code\n"
   ]
  },
  {
   "cell_type": "markdown",
   "metadata": {},
   "source": [
    "# Discrete Fourier Transform\n",
    "\n",
    " * Compute DFT using FFT algorithm provided by scipy package. Take only the positive frequencies from the computed DFT and subsequently calculate the magnitude (absolute value) of frequency content. Plot the calculated magnitude versus frequency.\n",
    " * Discard the frequencies below 0.5Hz and above 40Hz and replot the magnitude versus frequency.\n",
    " \n",
    "\n",
    "     * HINT use scipy.fft.rfft() outputs positive portion of function \n",
    "     \n",
    "     https://docs.scipy.org/doc/scipy/reference/generated/scipy.fft.rfft.html\n",
    "     https://docs.scipy.org/doc/scipy/reference/generated/scipy.fft.rfftfreq.html\n",
    "     "
   ]
  },
  {
   "cell_type": "code",
   "execution_count": 2,
   "metadata": {},
   "outputs": [],
   "source": [
    "# code\n"
   ]
  },
  {
   "cell_type": "markdown",
   "metadata": {},
   "source": [
    "# Band Pass Filter Design\n",
    "*  Design a band pass filter. Use Butterworth filter of order 4 with cutoff frequencies equal to 0.5Hz and 40Hz.\n",
    "\n",
    "\n",
    "* Design another butterworth band pass filter but this time use an order of 2 with cutoff frequencies equal to 0.5Hz and 40Hz\n",
    "\n",
    "\n",
    "* Plot the frequency response of both filters and explain your observations\n",
    "\n",
    "\n",
    "    * Hint use the following three functions scipy.signal.butter() and scipy.signal.freqz()\n",
    "\n",
    "\n",
    "* Important to use the scipy.signal.freqz() function and NOT the scipy.signal.freqs() function. \n",
    "\n",
    "        scipy.signal.freqz() is for digital filters which is what we want.\n",
    "\n",
    "https://docs.scipy.org/doc/scipy/reference/signal.html#filtering link to info about scipy.signal functions"
   ]
  },
  {
   "cell_type": "code",
   "execution_count": 3,
   "metadata": {},
   "outputs": [],
   "source": [
    "# code"
   ]
  },
  {
   "cell_type": "markdown",
   "metadata": {},
   "source": [
    "## Observations:"
   ]
  },
  {
   "cell_type": "markdown",
   "metadata": {},
   "source": [
    "# Apply filter to ECG_Sig\n",
    "* Use the designed 4th order filter to filter ECG_sig and plot the first 5000 samples from the original signal (raw_signal) and the filtered signal.\n",
    "* What happens after filtering?\n",
    "* Explain your observations"
   ]
  },
  {
   "cell_type": "code",
   "execution_count": null,
   "metadata": {},
   "outputs": [],
   "source": [
    "#code"
   ]
  },
  {
   "cell_type": "markdown",
   "metadata": {},
   "source": [
    "## Observations:"
   ]
  },
  {
   "cell_type": "markdown",
   "metadata": {},
   "source": [
    "# Plot the frequency domain of raw and filtered signal\n",
    "* Plot raw and filtered signals in the frequency domain and explain your observations\n",
    "* For each signal select frequencies from 0 to 50Hz"
   ]
  },
  {
   "cell_type": "code",
   "execution_count": null,
   "metadata": {},
   "outputs": [],
   "source": [
    "#code"
   ]
  },
  {
   "cell_type": "markdown",
   "metadata": {},
   "source": [
    "## Observations:"
   ]
  },
  {
   "cell_type": "markdown",
   "metadata": {},
   "source": [
    "# QRS Detection \n",
    "*  QRS detection using “hamilton” method provided by the “biosppy” package.\n",
    "*  If you do not have this package installed, use the following command to install it  !pip install biosppy in the next cell\n",
    "* For google colab use following command in the cell as well: !pip install biosppy\n"
   ]
  },
  {
   "cell_type": "code",
   "execution_count": 5,
   "metadata": {},
   "outputs": [
    {
     "ename": "ModuleNotFoundError",
     "evalue": "No module named 'biosppy'",
     "output_type": "error",
     "traceback": [
      "\u001b[1;31m---------------------------------------------------------------------------\u001b[0m",
      "\u001b[1;31mModuleNotFoundError\u001b[0m                       Traceback (most recent call last)",
      "\u001b[1;32m<ipython-input-5-d425ee54229c>\u001b[0m in \u001b[0;36m<module>\u001b[1;34m\u001b[0m\n\u001b[1;32m----> 1\u001b[1;33m \u001b[1;32mimport\u001b[0m \u001b[0mbiosppy\u001b[0m\u001b[1;33m\u001b[0m\u001b[1;33m\u001b[0m\u001b[0m\n\u001b[0m",
      "\u001b[1;31mModuleNotFoundError\u001b[0m: No module named 'biosppy'"
     ]
    }
   ],
   "source": [
    "#still need to locally install biosppy\n",
    "#code\n",
    "!pip install biosppy\n",
    "import biosppy \n",
    "from biosppy.signals import ecg "
   ]
  },
  {
   "cell_type": "code",
   "execution_count": null,
   "metadata": {},
   "outputs": [],
   "source": []
  },
  {
   "cell_type": "markdown",
   "metadata": {},
   "source": [
    "## Observations:"
   ]
  }
 ],
 "metadata": {
  "kernelspec": {
   "display_name": "Python 3 (ipykernel)",
   "language": "python",
   "name": "python3"
  },
  "language_info": {
   "codemirror_mode": {
    "name": "ipython",
    "version": 3
   },
   "file_extension": ".py",
   "mimetype": "text/x-python",
   "name": "python",
   "nbconvert_exporter": "python",
   "pygments_lexer": "ipython3",
   "version": "3.7.11"
  },
  "toc": {
   "base_numbering": 1,
   "nav_menu": {},
   "number_sections": true,
   "sideBar": true,
   "skip_h1_title": false,
   "title_cell": "Table of Contents",
   "title_sidebar": "Contents",
   "toc_cell": false,
   "toc_position": {},
   "toc_section_display": true,
   "toc_window_display": true
  },
  "varInspector": {
   "cols": {
    "lenName": 16,
    "lenType": 16,
    "lenVar": 40
   },
   "kernels_config": {
    "python": {
     "delete_cmd_postfix": "",
     "delete_cmd_prefix": "del ",
     "library": "var_list.py",
     "varRefreshCmd": "print(var_dic_list())"
    },
    "r": {
     "delete_cmd_postfix": ") ",
     "delete_cmd_prefix": "rm(",
     "library": "var_list.r",
     "varRefreshCmd": "cat(var_dic_list()) "
    }
   },
   "types_to_exclude": [
    "module",
    "function",
    "builtin_function_or_method",
    "instance",
    "_Feature"
   ],
   "window_display": false
  }
 },
 "nbformat": 4,
 "nbformat_minor": 2
}
